{
 "cells": [
  {
   "cell_type": "code",
   "execution_count": 78,
   "metadata": {},
   "outputs": [],
   "source": [
    "import numpy as np"
   ]
  },
  {
   "cell_type": "code",
   "execution_count": 79,
   "metadata": {},
   "outputs": [
    {
     "data": {
      "text/plain": [
       "array([[0.18198082, 0.57740831, 0.21098621]])"
      ]
     },
     "execution_count": 79,
     "metadata": {},
     "output_type": "execute_result"
    }
   ],
   "source": [
    "NUM_INPUTS = 2 \n",
    "\n",
    "weights = np.random.rand(1, NUM_INPUTS + 1) #  where one here, is the BIAS (1 of 0 position)\n",
    "\n",
    "weights"
   ]
  },
  {
   "cell_type": "code",
   "execution_count": 80,
   "metadata": {},
   "outputs": [],
   "source": [
    "def step_functions(z):\n",
    "    return 1 if z >= 1 else 0"
   ]
  },
  {
   "cell_type": "code",
   "execution_count": 81,
   "metadata": {},
   "outputs": [],
   "source": [
    "def sigmoid(z):\n",
    "    return 1 / (1 + np.exp(-z))"
   ]
  },
  {
   "cell_type": "code",
   "execution_count": 82,
   "metadata": {},
   "outputs": [],
   "source": [
    "def feed_forward(inputs, weights):\n",
    "    inputs = np.insert(inputs, 0, 1)\n",
    "    z = inputs @ weights.T\n",
    "    y_hat = sigmoid(z[0])\n",
    "\n",
    "    return y_hat"
   ]
  },
  {
   "cell_type": "code",
   "execution_count": 83,
   "metadata": {},
   "outputs": [
    {
     "data": {
      "text/plain": [
       "np.float64(0.7251943049932615)"
      ]
     },
     "execution_count": 83,
     "metadata": {},
     "output_type": "execute_result"
    }
   ],
   "source": [
    "feed_forward(np.array([[1,1]]), weights)"
   ]
  },
  {
   "cell_type": "code",
   "execution_count": 93,
   "metadata": {},
   "outputs": [],
   "source": [
    "def fit(training_data, y, weights, learning_rate=0.1, epochs=10000):\n",
    "    for _ in range(epochs):\n",
    "        for i, data in enumerate(training_data):\n",
    "            y_hat = feed_forward(data, weights)\n",
    "            #print(f\"{data}: {y_hat}\")\n",
    "            erro = y[i] - y_hat\n",
    "            #print(erro)\n",
    "\n",
    "            if abs(erro) > 0:\n",
    "                input_bias = np.insert(data, 0, 1)\n",
    "                weights += learning_rate * erro * y_hat * (1 - y_hat)  * input_bias\n",
    "            \n",
    "    return weights             "
   ]
  },
  {
   "cell_type": "code",
   "execution_count": 94,
   "metadata": {},
   "outputs": [
    {
     "name": "stdout",
     "output_type": "stream",
     "text": [
      "[[-16.91359093  11.21933423  11.21933676]]\n",
      "0.9960302719530784\n",
      "0.0033539508009036135\n",
      "0.0033539592325253216\n",
      "4.51357610720548e-08\n",
      "----------\n",
      "[[-16.92030247  11.22380913  11.22381162]]\n",
      "0.9960391119645313\n",
      "0.0033464826573715166\n",
      "0.003346490967211134\n",
      "4.483384500473955e-08\n"
     ]
    }
   ],
   "source": [
    "training_data = [\n",
    "    np.array([[1,1]]),\n",
    "    np.array([[1,0]]),\n",
    "    np.array([[0,1]]),\n",
    "    np.array([[0,0]]),\n",
    "]\n",
    "\n",
    "y = [1,0,0,0]\n",
    "print(weights)\n",
    "print(feed_forward(np.array([[1,1]]), weights))\n",
    "print(feed_forward(np.array([[1,0]]), weights))\n",
    "print(feed_forward(np.array([[0,1]]), weights))\n",
    "print(feed_forward(np.array([[0,0]]), weights))\n",
    "\n",
    "print('-' * 10)\n",
    "weights = fit(training_data, y, weights)\n",
    "print(weights)\n",
    "print(feed_forward(np.array([[1,1]]), weights))\n",
    "print(feed_forward(np.array([[1,0]]), weights))\n",
    "print(feed_forward(np.array([[0,1]]), weights))\n",
    "print(feed_forward(np.array([[0,0]]), weights))\n"
   ]
  }
 ],
 "metadata": {
  "kernelspec": {
   "display_name": "venv",
   "language": "python",
   "name": "python3"
  },
  "language_info": {
   "codemirror_mode": {
    "name": "ipython",
    "version": 3
   },
   "file_extension": ".py",
   "mimetype": "text/x-python",
   "name": "python",
   "nbconvert_exporter": "python",
   "pygments_lexer": "ipython3",
   "version": "3.12.3"
  }
 },
 "nbformat": 4,
 "nbformat_minor": 2
}
