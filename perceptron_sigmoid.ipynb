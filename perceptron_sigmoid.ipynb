{
 "cells": [
  {
   "cell_type": "code",
   "execution_count": 13,
   "metadata": {},
   "outputs": [],
   "source": [
    "import numpy as np"
   ]
  },
  {
   "cell_type": "code",
   "execution_count": 14,
   "metadata": {},
   "outputs": [
    {
     "data": {
      "text/plain": [
       "array([[0.16862235, 0.88021139, 0.21869186]])"
      ]
     },
     "execution_count": 14,
     "metadata": {},
     "output_type": "execute_result"
    }
   ],
   "source": [
    "NUM_INPUTS = 2 \n",
    "\n",
    "weights = np.random.rand(1, NUM_INPUTS + 1) #  where one here, is the BIAS (1 of 0 position)\n",
    "\n",
    "weights"
   ]
  },
  {
   "cell_type": "code",
   "execution_count": 15,
   "metadata": {},
   "outputs": [],
   "source": [
    "def step_functions(z):\n",
    "    return 1 if z >= 1 else 0"
   ]
  },
  {
   "cell_type": "code",
   "execution_count": 16,
   "metadata": {},
   "outputs": [],
   "source": [
    "def sigmoid(z):\n",
    "    return 1 / (1 + np.exp(-z))"
   ]
  },
  {
   "cell_type": "code",
   "execution_count": 17,
   "metadata": {},
   "outputs": [],
   "source": [
    "def feed_forward(inputs, weights):\n",
    "    inputs = np.insert(inputs, 0, 1)\n",
    "    z = inputs @ weights.T\n",
    "    y_hat = sigmoid(z[0])\n",
    "\n",
    "    return y_hat"
   ]
  },
  {
   "cell_type": "code",
   "execution_count": 18,
   "metadata": {},
   "outputs": [
    {
     "data": {
      "text/plain": [
       "np.float64(0.7803188779938054)"
      ]
     },
     "execution_count": 18,
     "metadata": {},
     "output_type": "execute_result"
    }
   ],
   "source": [
    "feed_forward(np.array([[1,1]]), weights)"
   ]
  },
  {
   "cell_type": "code",
   "execution_count": 19,
   "metadata": {},
   "outputs": [],
   "source": [
    "def fit(training_data, y, weights, learning_rate=0.1, epochs=10000):\n",
    "    for _ in range(epochs):\n",
    "        for i, data in enumerate(training_data):\n",
    "            y_hat = feed_forward(data, weights)\n",
    "            #print(f\"{data}: {y_hat}\")\n",
    "            erro = y[i] - y_hat\n",
    "            #print(erro)\n",
    "\n",
    "            if abs(erro) > 0:\n",
    "                input_bias = np.insert(data, 0, 1)\n",
    "                weights += learning_rate * erro * y_hat * (1 - y_hat)  * input_bias\n",
    "            \n",
    "    return weights             "
   ]
  },
  {
   "cell_type": "code",
   "execution_count": null,
   "metadata": {},
   "outputs": [
    {
     "name": "stdout",
     "output_type": "stream",
     "text": [
      "[[0.16862235 0.88021139 0.21869186]]\n",
      "0.7803188779938054\n",
      "----------\n",
      "[[-8.31668177  5.48225485  5.48261826]]\n",
      "0.9338994272339237\n"
     ]
    }
   ],
   "source": [
    "training_data = [\n",
    "    np.array([[1,1]]),\n",
    "    np.array([[1,0]]),\n",
    "    np.array([[0,1]]),\n",
    "    np.array([[0,0]]),\n",
    "]\n",
    "\n",
    "y = [1,0,0,0]\n",
    "print(weights)\n",
    "print(feed_forward(np.array([[1,1]]), weights))\n",
    "print(feed_forward(np.array([[1,0]]), weights))\n",
    "print(feed_forward(np.array([[0,1]]), weights))\n",
    "print(feed_forward(np.array([[0,0]]), weights))\n",
    "\n",
    "print('-' * 10)\n",
    "weights = fit(training_data, y, weights)\n",
    "print(weights)\n",
    "print(feed_forward(np.array([[1,1]]), weights))\n",
    "print(feed_forward(np.array([[1,0]]), weights))\n",
    "print(feed_forward(np.array([[0,1]]), weights))\n",
    "print(feed_forward(np.array([[0,0]]), weights))\n"
   ]
  }
 ],
 "metadata": {
  "kernelspec": {
   "display_name": "venv",
   "language": "python",
   "name": "python3"
  },
  "language_info": {
   "codemirror_mode": {
    "name": "ipython",
    "version": 3
   },
   "file_extension": ".py",
   "mimetype": "text/x-python",
   "name": "python",
   "nbconvert_exporter": "python",
   "pygments_lexer": "ipython3",
   "version": "3.12.3"
  }
 },
 "nbformat": 4,
 "nbformat_minor": 2
}
