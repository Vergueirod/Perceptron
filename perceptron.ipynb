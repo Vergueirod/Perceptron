{
 "cells": [
  {
   "cell_type": "code",
   "execution_count": 519,
   "metadata": {},
   "outputs": [],
   "source": [
    "import numpy as np"
   ]
  },
  {
   "cell_type": "markdown",
   "metadata": {},
   "source": [
    "The first step, I need put the structure of my networking"
   ]
  },
  {
   "cell_type": "code",
   "execution_count": 520,
   "metadata": {},
   "outputs": [
    {
     "data": {
      "text/plain": [
       "array([[0.31751387, 0.43813788]])"
      ]
     },
     "execution_count": 520,
     "metadata": {},
     "output_type": "execute_result"
    }
   ],
   "source": [
    "NUM_INPUTS = 2 # I can put here, zero, one or random number for start, this only the columns number\n",
    "\n",
    "weights = np.random.rand(1, NUM_INPUTS)\n",
    "\n",
    "weights"
   ]
  },
  {
   "cell_type": "code",
   "execution_count": 521,
   "metadata": {},
   "outputs": [],
   "source": [
    "def step_functions(z):\n",
    "    return 1 if z >= 1 else 0"
   ]
  },
  {
   "cell_type": "code",
   "execution_count": 522,
   "metadata": {},
   "outputs": [],
   "source": [
    "def feed_forward(inputs, weights):\n",
    "    z = inputs @ weights.T\n",
    "    y_hat = step_functions(z[0])\n",
    "\n",
    "    return y_hat"
   ]
  },
  {
   "cell_type": "code",
   "execution_count": 523,
   "metadata": {},
   "outputs": [
    {
     "data": {
      "text/plain": [
       "0"
      ]
     },
     "execution_count": 523,
     "metadata": {},
     "output_type": "execute_result"
    }
   ],
   "source": [
    "feed_forward(np.array([[1,1]]), weights)"
   ]
  },
  {
   "cell_type": "code",
   "execution_count": 524,
   "metadata": {},
   "outputs": [],
   "source": [
    "def fit(training_data, y, weights, learning_rate=0.1, epochs=10000):\n",
    "    for _ in range(epochs):\n",
    "        for i, data in enumerate(training_data):\n",
    "            y_hat = feed_forward(data, weights)\n",
    "            #print(f\"{data}: {y_hat}\")\n",
    "            erro = y[i] - y_hat\n",
    "            #print(erro)\n",
    "\n",
    "            if abs(erro) > 0:\n",
    "                for j in range(weights.shape[1]):\n",
    "                    weights[0][j] = weights[0][j] + (learning_rate * data[0][j] * erro)  \n",
    "            \n",
    "    return weights             "
   ]
  },
  {
   "cell_type": "code",
   "execution_count": 525,
   "metadata": {},
   "outputs": [
    {
     "name": "stdout",
     "output_type": "stream",
     "text": [
      "[[0.31751387 0.43813788]]\n",
      "0\n",
      "----------\n",
      "[[0.51751387 0.63813788]]\n",
      "1\n"
     ]
    }
   ],
   "source": [
    "training_data = [\n",
    "    np.array([[1,1]]),\n",
    "    np.array([[1,0]]),\n",
    "    np.array([[0,1]]),\n",
    "    np.array([[0,0]]),\n",
    "]\n",
    "\n",
    "y = [1,0,0,0]\n",
    "print(weights)\n",
    "print(feed_forward(np.array([[1,1]]), weights))\n",
    "print('-' * 10)\n",
    "weights = fit(training_data, y, weights)\n",
    "print(weights)\n",
    "print(feed_forward(np.array([[1,1]]), weights))\n"
   ]
  },
  {
   "cell_type": "code",
   "execution_count": 531,
   "metadata": {},
   "outputs": [
    {
     "name": "stdout",
     "output_type": "stream",
     "text": [
      "0\n"
     ]
    }
   ],
   "source": [
    "print(feed_forward(np.array([[0,0]]), weights))"
   ]
  },
  {
   "cell_type": "code",
   "execution_count": 536,
   "metadata": {},
   "outputs": [],
   "source": [
    "weights = np.random.rand(1, NUM_INPUTS)\n",
    "\n",
    "training_data = [\n",
    "    np.array([[100,1]]),\n",
    "    np.array([[200,7]]),\n",
    "    np.array([[190,50]]),\n",
    "    np.array([[255,800]]),\n",
    "    np.array([[300,1000]]),\n",
    "    np.array([[10,70]]),\n",
    "]\n",
    "\n",
    "y = [1,1,1,0,0,0]"
   ]
  },
  {
   "cell_type": "code",
   "execution_count": 537,
   "metadata": {},
   "outputs": [],
   "source": [
    "weights = fit(training_data, y, weights)"
   ]
  },
  {
   "cell_type": "code",
   "execution_count": 541,
   "metadata": {},
   "outputs": [
    {
     "name": "stdout",
     "output_type": "stream",
     "text": [
      "0\n"
     ]
    }
   ],
   "source": [
    "print(feed_forward(np.array([[10,5]]), weights))"
   ]
  },
  {
   "cell_type": "markdown",
   "metadata": {},
   "source": [
    "1 - entry (num_inputs)\n",
    "2 - weights\n",
    "3 - activate functions\n",
    "4 - feed forward"
   ]
  }
 ],
 "metadata": {
  "kernelspec": {
   "display_name": "venv",
   "language": "python",
   "name": "python3"
  },
  "language_info": {
   "codemirror_mode": {
    "name": "ipython",
    "version": 3
   },
   "file_extension": ".py",
   "mimetype": "text/x-python",
   "name": "python",
   "nbconvert_exporter": "python",
   "pygments_lexer": "ipython3",
   "version": "3.12.3"
  }
 },
 "nbformat": 4,
 "nbformat_minor": 2
}
